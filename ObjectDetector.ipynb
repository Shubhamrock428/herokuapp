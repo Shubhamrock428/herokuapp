{
 "cells": [
  {
   "cell_type": "code",
   "execution_count": 1,
   "metadata": {},
   "outputs": [],
   "source": [
    "import cv2 as cv\n",
    "import numpy\n",
    "\n",
    "\n",
    "classNames = {1: 'match2', 2: 'match3', 3: 'match4', 4: 'match5', 5: 'match6', 6: 'match7',\n",
    "              7: 'match8', 8: 'match9', 9: 'match10', 10: 'match12', 11: 'match13',\n",
    "              12: 'match14', 13: 'match15', 14: 'match16', 15: 'match17', 16: 'match18',\n",
    "              17: 'match19', 18: 'match20', 19: 'match21', 20: 'match23', 21: 'match24', 22: 'match25',\n",
    "              23: 'match26', 24: 'match27', 25: 'match28', 26: 'match29', 27: 'match30',\n",
    "              28: 'match31', 29: 'match32', 30: 'match33', 31: 'match34', 32: 'match35',\n",
    "              33: 'match36', 34: 'match37', 35: 'match38', 36: 'match39',\n",
    "              37: 'match40', 38: 'match42', 39: 'match43', 40: 'match44',\n",
    "              41: 'match45', 42: 'match46', 43: 'match47', 44: 'match48', 45: 'match49',\n",
    "              46: 'match51', 47: 'match53', 48: 'match54', 49: 'match55', 50: 'match56',\n",
    "              51: 'match57', 52: 'match58', 53: 'match59', 54: 'match60', 55: 'match61',\n",
    "              56: 'match62', 57: 'match63', 58: 'match64', 59: 'match65', 60: 'match66',\n",
    "              61: 'match67', 62: 'match68', 63: 'match69', 64: 'match70', 65: 'match71',\n",
    "              66: 'match72', 67: 'match73', 68: 'match74', 69: 'match75', 70: 'match76',\n",
    "              71: 'match77', 72: 'match78', 73: 'match79', 74: 'match80', 75: 'match81',\n",
    "              76: 'match82', 77: 'match83', 78: 'match84', 79: 'match85',80: 'match86',\n",
    "              81: 'match87', 82: 'match88', 83: 'match89', 84: 'match90', 85: 'match91',\n",
    "              86: 'match92', 87:'match93', 88: 'match94', 89:'match95'}\n",
    "\n",
    "\n",
    "class Detector:\n",
    "    def __init__(self):\n",
    "        global cvNet\n",
    "        cvNet = cv.dnn.readNetFromTensorflow('/Users/DELL LAPTOP/modelstf/research/object_detection/herokuobjectdetection-master/modelmodel/frozen_inference_graph.pb',\n",
    "                                             '/Users/DELL LAPTOP/modelstf/research/object_detection/herokuobjectdetection-master/modelmodel/frozen_inference_graph.pbtxt')\n",
    "\n",
    "    def detectObject(self, imName):\n",
    "        img = cv.cvtColor(numpy.array(imName), cv.COLOR_BGR2RGB)\n",
    "        #img = cv2.imread(args[\"image\"], cv2.IMREAD_GRAYSCALE)\n",
    "        cvNet.setInput(cv.dnn.blobFromImage(img, 0.007843, (300, 300), (127.5, 127.5, 127.5), swapRB=True, crop=False))\n",
    "        detections = cvNet.forward()\n",
    "        cols = img.shape[1]\n",
    "        rows = img.shape[0]\n",
    "\n",
    "        for i in range(detections.shape[2]):\n",
    "            confidence = detections[0, 0, i, 2]\n",
    "            if confidence > 0.5:\n",
    "                class_id = int(detections[0, 0, i, 1])\n",
    "\n",
    "                xLeftBottom = int(detections[0, 0, i, 3] * cols)\n",
    "                yLeftBottom = int(detections[0, 0, i, 4] * rows)\n",
    "                xRightTop = int(detections[0, 0, i, 5] * cols)\n",
    "                yRightTop = int(detections[0, 0, i, 6] * rows)\n",
    "\n",
    "                cv.rectangle(img, (xLeftBottom, yLeftBottom), (xRightTop, yRightTop),\n",
    "                             (0, 0, 255))\n",
    "                if class_id in classNames:\n",
    "                    label = classNames[class_id] + \": \" + str(confidence)\n",
    "                    labelSize, baseLine = cv.getTextSize(label, cv2.FONT_HERSHEY_SIMPLEX, 0.5, 1)\n",
    "                    yLeftBottom = max(yLeftBottom, labelSize[1])\n",
    "                    cv.putText(img, label, (xLeftBottom+5, yLeftBottom), cv2.FONT_HERSHEY_SIMPLEX, 0.5, (255,255,255))\n",
    "\n",
    "        img = cv.imencode('.jpg', img)[1].tobytes()\n",
    "        return img\n"
   ]
  },
  {
   "cell_type": "code",
   "execution_count": null,
   "metadata": {},
   "outputs": [],
   "source": []
  }
 ],
 "metadata": {
  "kernelspec": {
   "display_name": "Python 3",
   "language": "python",
   "name": "python3"
  },
  "language_info": {
   "codemirror_mode": {
    "name": "ipython",
    "version": 3
   },
   "file_extension": ".py",
   "mimetype": "text/x-python",
   "name": "python",
   "nbconvert_exporter": "python",
   "pygments_lexer": "ipython3",
   "version": "3.6.3"
  }
 },
 "nbformat": 4,
 "nbformat_minor": 2
}
